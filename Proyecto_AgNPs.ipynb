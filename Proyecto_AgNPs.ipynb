{
 "cells": [
  {
   "cell_type": "markdown",
   "metadata": {},
   "source": [
    "<img style=\"float: center\" src=\"https://arrupesj.files.wordpress.com/2015/06/4.jpg\" width=\"350px\" height=\"125px\" />\n",
    "\n",
    "\n",
    "# Proyecto\n",
    "### Optimización de nanopartículas de plata (AgNPs).\n",
    "#### Profesor: Carlos Arellano Muro\n",
    "#### Equipo: \n",
    "#### Diamante del Cielo Gutiérrez Nandayapa nt709910\n",
    "#### Isaura Rodríguez Navarro nt713994\n",
    "##### Fecha: 28 de septiembre de 2020"
   ]
  },
  {
   "cell_type": "markdown",
   "metadata": {},
   "source": [
    "Se busca generar nanopartículas de Plata con forma de esperas.\n",
    "\n",
    "Para llevarse a cabo la reacción, se necesitan 4 reactivos:\n",
    "\n",
    "* Nitrato de Plata (AgNO_3)\n",
    "* Glucosa (C_6H_12O_6) \n",
    "* Polivinilpirrolida (PVP)\n",
    "* Hidróxido de sodio (NaOH)\n",
    "\n",
    "Las condiciones ideales para que se lleve a cabo la reacción de reducción son las siguientes "
   ]
  },
  {
   "cell_type": "code",
   "execution_count": null,
   "metadata": {},
   "outputs": [],
   "source": []
  }
 ],
 "metadata": {
  "kernelspec": {
   "display_name": "Python 3",
   "language": "python",
   "name": "python3"
  },
  "language_info": {
   "codemirror_mode": {
    "name": "ipython",
    "version": 3
   },
   "file_extension": ".py",
   "mimetype": "text/x-python",
   "name": "python",
   "nbconvert_exporter": "python",
   "pygments_lexer": "ipython3",
   "version": "3.8.3"
  }
 },
 "nbformat": 4,
 "nbformat_minor": 4
}
